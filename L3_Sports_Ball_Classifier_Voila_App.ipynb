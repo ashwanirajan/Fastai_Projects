{
 "cells": [
  {
   "cell_type": "markdown",
   "metadata": {},
   "source": [
    "## A Simple Web App for Ball Classification"
   ]
  },
  {
   "cell_type": "markdown",
   "metadata": {},
   "source": [
    "I have used **Voila** to build this simple app. **Voila** is a very handy way to make jupyter notebooks interactive.**Voila** runs all the code cells in the jupyter notebook and shows only the outputs, markdowns and widgets, so that the user can only read the instructions and interact through widgets and can't run code.\n",
    "\n",
    "**Steps to use voila**:\n",
    "1. install voila on your local. you can do that by either \"pip install voila\" on terminal or \"!pip install voila\" on Jpyter notebook.\n",
    "2. Voilà can be used as a standalone application, or as a Jupyter server extension.\n",
    "\n",
    "    i. As standalone: just run \"voila path/to/notebook/ options\" on terminal.\n",
    "    \n",
    "    ii. As a jupyter notebook extension: \n",
    "        \n",
    "        a. run \"jupyter serverextension enable --sys-prefix voila\" on terminal to enable voila. \n",
    "        b. First start the jupyter notebook, then copy the notebook URL and replace 'notebooks' with 'voila'. Your app will run in this new link.\n"
   ]
  },
  {
   "cell_type": "code",
   "execution_count": 2,
   "metadata": {},
   "outputs": [
    {
     "name": "stdout",
     "output_type": "stream",
     "text": [
      "^C\r\n"
     ]
    },
    {
     "ename": "ModuleNotFoundError",
     "evalue": "No module named 'fastbook'",
     "output_type": "error",
     "traceback": [
      "\u001b[0;31m---------------------------------------------------------------------------\u001b[0m",
      "\u001b[0;31mModuleNotFoundError\u001b[0m                       Traceback (most recent call last)",
      "\u001b[0;32m<ipython-input-2-1aff356e6faa>\u001b[0m in \u001b[0;36m<module>\u001b[0;34m\u001b[0m\n\u001b[1;32m      1\u001b[0m \u001b[0mget_ipython\u001b[0m\u001b[0;34m(\u001b[0m\u001b[0;34m)\u001b[0m\u001b[0;34m.\u001b[0m\u001b[0msystem\u001b[0m\u001b[0;34m(\u001b[0m\u001b[0;34m'pip install -Uqq fastbook'\u001b[0m\u001b[0;34m)\u001b[0m\u001b[0;34m\u001b[0m\u001b[0;34m\u001b[0m\u001b[0m\n\u001b[0;32m----> 2\u001b[0;31m \u001b[0;32mimport\u001b[0m \u001b[0mfastbook\u001b[0m\u001b[0;34m\u001b[0m\u001b[0;34m\u001b[0m\u001b[0m\n\u001b[0m\u001b[1;32m      3\u001b[0m \u001b[0mfastbook\u001b[0m\u001b[0;34m.\u001b[0m\u001b[0msetup_book\u001b[0m\u001b[0;34m(\u001b[0m\u001b[0;34m)\u001b[0m\u001b[0;34m\u001b[0m\u001b[0;34m\u001b[0m\u001b[0m\n\u001b[1;32m      4\u001b[0m \u001b[0;32mfrom\u001b[0m \u001b[0mfastbook\u001b[0m \u001b[0;32mimport\u001b[0m \u001b[0;34m*\u001b[0m\u001b[0;34m\u001b[0m\u001b[0;34m\u001b[0m\u001b[0m\n\u001b[1;32m      5\u001b[0m \u001b[0;32mfrom\u001b[0m \u001b[0mfastai\u001b[0m\u001b[0;34m.\u001b[0m\u001b[0mvision\u001b[0m\u001b[0;34m.\u001b[0m\u001b[0mwidgets\u001b[0m \u001b[0;32mimport\u001b[0m \u001b[0;34m*\u001b[0m\u001b[0;34m\u001b[0m\u001b[0;34m\u001b[0m\u001b[0m\n",
      "\u001b[0;31mModuleNotFoundError\u001b[0m: No module named 'fastbook'"
     ]
    }
   ],
   "source": [
    "from fastbook import *\n",
    "from fastai.vision.widgets import *"
   ]
  },
  {
   "cell_type": "code",
   "execution_count": 2,
   "metadata": {},
   "outputs": [
    {
     "name": "stdout",
     "output_type": "stream",
     "text": [
      "Enabling: voila\n",
      "- Writing config: /home/ashwani/anaconda3/etc/jupyter\n",
      "    - Validating...\n",
      "      voila 0.1.23 \u001b[32mOK\u001b[0m\n"
     ]
    }
   ],
   "source": [
    "#!pip install voila\n",
    "#!jupyter serverextension enable --sys-prefix voila"
   ]
  },
  {
   "cell_type": "code",
   "execution_count": 6,
   "metadata": {},
   "outputs": [],
   "source": [
    "path = Path()\n",
    "learn_inf = load_learner(path/'export.pkl')\n"
   ]
  },
  {
   "cell_type": "code",
   "execution_count": 8,
   "metadata": {},
   "outputs": [],
   "source": [
    "btn_upload1 = widgets.FileUpload(\n",
    "    accept='',  # Accepted file extension e.g. '.txt', '.pdf', 'image/*', 'image/*,.pdf'\n",
    "    multiple=False)\n",
    "\n",
    "out_pl1 = widgets.Output()\n",
    "\n",
    "lbl_pred1 = widgets.Label('Here is the ball')\n",
    "\n",
    "btn_run1 = widgets.Button(description='Classify')\n",
    "\n"
   ]
  },
  {
   "cell_type": "code",
   "execution_count": 9,
   "metadata": {},
   "outputs": [],
   "source": [
    "#steps\n",
    "# 1. store image\n",
    "# 2. clear the previousoutput\n",
    "# 3. show the new output\n",
    "# 4. run the learned inference and get the probability values and prediction\n",
    "# 5. model.predict gives 1.prediction, 2. index of prediction in vocab, 3. probability\n",
    "# of each class in the same order as in vocab. So the 2nd term(index) can be used to find \n",
    "# probability with which the predicted class is supported.\n",
    "\n",
    "def on_click_classify(change):    #function to run on click event\n",
    "    img = PILImage.create(btn_upload1.data[-1]) #save image uploaded\n",
    "    out_pl1.clear_output() #clear the output display\n",
    "    with out_pl1: display(img.to_thumb(128,128)) # set new output display\n",
    "    pred,pred_idx,probs = learn_inf.predict(img) #learn_inf.predict gives 3 values seen above\n",
    "    lbl_pred1.value = f'Prediction: {pred}; Probability: {probs[pred_idx]:.04f}' #setting label value\n",
    "\n",
    "btn_run1.on_click(on_click_classify) #defining the event and defining the function"
   ]
  },
  {
   "cell_type": "markdown",
   "metadata": {},
   "source": [
    "# Here's the App"
   ]
  },
  {
   "cell_type": "code",
   "execution_count": 10,
   "metadata": {},
   "outputs": [
    {
     "data": {
      "application/vnd.jupyter.widget-view+json": {
       "model_id": "115b1c1cc02046d3b8465988bc34ca1d",
       "version_major": 2,
       "version_minor": 0
      },
      "text/plain": [
       "VBox(children=(Label(value='Select your ball!'), FileUpload(value={}, description='Upload'), Button(descriptio…"
      ]
     },
     "metadata": {},
     "output_type": "display_data"
    }
   ],
   "source": [
    "VBox([widgets.Label('Select your ball!'), \n",
    "      btn_upload1, btn_run1, out_pl1, lbl_pred1])"
   ]
  },
  {
   "cell_type": "code",
   "execution_count": null,
   "metadata": {},
   "outputs": [],
   "source": []
  }
 ],
 "metadata": {
  "kernelspec": {
   "display_name": "Python 3",
   "language": "python",
   "name": "python3"
  },
  "language_info": {
   "codemirror_mode": {
    "name": "ipython",
    "version": 3
   },
   "file_extension": ".py",
   "mimetype": "text/x-python",
   "name": "python",
   "nbconvert_exporter": "python",
   "pygments_lexer": "ipython3",
   "version": "3.7.3"
  }
 },
 "nbformat": 4,
 "nbformat_minor": 4
}
